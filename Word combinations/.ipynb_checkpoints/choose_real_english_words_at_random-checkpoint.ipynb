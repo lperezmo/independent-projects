{
 "cells": [
  {
   "cell_type": "code",
   "execution_count": 26,
   "metadata": {},
   "outputs": [],
   "source": [
    "import random"
   ]
  },
  {
   "cell_type": "code",
   "execution_count": 32,
   "metadata": {},
   "outputs": [],
   "source": [
    "def choose_words_from_dict(num_of_words, len_of_words):\n",
    "    list_of_words = []\n",
    "    filename = \"D:/Python_independent_projects/word_combinations_using_itertools/english-words/words.txt\"\n",
    "    candidates = [x.strip().lower() for x in open(filename,\"r\")]\n",
    "\n",
    "    while len(list_of_words) <= num_of_words:\n",
    "        temp_word = candidates[(random.randint(0, len(candidates) - 1))]\n",
    "        if len(temp_word) == len_of_words:\n",
    "            if \"-\" in temp_word:\n",
    "                pass\n",
    "            else:\n",
    "                list_of_words.append(temp_word)\n",
    "        else:\n",
    "            pass\n",
    "        \n",
    "    return list_of_words"
   ]
  },
  {
   "cell_type": "code",
   "execution_count": 33,
   "metadata": {},
   "outputs": [
    {
     "data": {
      "text/plain": [
       "['retires',\n",
       " 'apokrea',\n",
       " 'nichevo',\n",
       " 'fastish',\n",
       " 'slurban',\n",
       " 'garboil',\n",
       " 'pooping',\n",
       " 'manxman',\n",
       " 'ridgils',\n",
       " 'monists',\n",
       " 'gemeled',\n",
       " 'lungees',\n",
       " 'maytown',\n",
       " 'nounize',\n",
       " 'mccanna',\n",
       " 'mudhole',\n",
       " 'groundy',\n",
       " 'karlens',\n",
       " 'possies',\n",
       " 'slusher',\n",
       " 'evannia']"
      ]
     },
     "execution_count": 33,
     "metadata": {},
     "output_type": "execute_result"
    }
   ],
   "source": [
    "choose_words_from_dict(num_of_words=20, len_of_words=7)"
   ]
  },
  {
   "cell_type": "code",
   "execution_count": null,
   "metadata": {},
   "outputs": [],
   "source": []
  }
 ],
 "metadata": {
  "kernelspec": {
   "display_name": "Main",
   "language": "python",
   "name": "main"
  },
  "language_info": {
   "codemirror_mode": {
    "name": "ipython",
    "version": 3
   },
   "file_extension": ".py",
   "mimetype": "text/x-python",
   "name": "python",
   "nbconvert_exporter": "python",
   "pygments_lexer": "ipython3",
   "version": "3.7.7"
  }
 },
 "nbformat": 4,
 "nbformat_minor": 4
}
