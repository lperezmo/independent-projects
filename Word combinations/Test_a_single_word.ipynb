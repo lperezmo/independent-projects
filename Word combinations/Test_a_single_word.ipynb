{
 "cells": [
  {
   "cell_type": "code",
   "execution_count": 1,
   "metadata": {},
   "outputs": [],
   "source": [
    "import itertools\n",
    "import numpy as np\n",
    "import enchant\n",
    "import numpy as np\n",
    "import string\n",
    "import random\n",
    "from string import ascii_lowercase\n",
    "from random import choice"
   ]
  },
  {
   "cell_type": "code",
   "execution_count": 2,
   "metadata": {
    "jupyter": {
     "source_hidden": true
    }
   },
   "outputs": [],
   "source": [
    "def real_words_from_combinations(list_of_words, verbose = False):\n",
    "    \"\"\"\n",
    "    A function that takes a list of words, and then finds the number of real words that\n",
    "    can be formed from all the possible combinations of the characters of each word in the set.\n",
    "    \n",
    "    Parameters\n",
    "    ----------\n",
    "    list_of_words : a list of words\n",
    "    verbose : Set to true to display progress messages\n",
    "    \n",
    "    Returns\n",
    "    -------\n",
    "    real_words_per_word : a tuple containing the number of words observed from each word in the set\n",
    "    words_found : a list of lists that contains the real words found for each word in the set\n",
    "    \n",
    "    \"\"\"\n",
    "    if verbose == True:\n",
    "        print(\"Checking the generated combination of words against an existing dictionary...\")\n",
    "    \n",
    "    # Defining the variables to hold final results\n",
    "    real_words_per_word = []\n",
    "    words_found = []\n",
    "    \n",
    "    # Creating a US dictionary to check words against\n",
    "    us_dict = enchant.Dict(\"en_US\") \n",
    "    \n",
    "    # Checking each word in the given list\n",
    "    for temp_word in list_of_words:\n",
    "        \n",
    "        # Variables to hold per-word results \n",
    "        temp_real_words = 0\n",
    "        temp_fake_words = 0\n",
    "        temp_words_found = []\n",
    "        \n",
    "        # Creating all combinations that can be created with current word in given list of words\n",
    "        temp_combination = list(itertools.permutations(temp_word,len(temp_word)))\n",
    "        temp_word_dict = {}\n",
    "        for counter, item in enumerate(temp_combination):\n",
    "            temp_word_dict[counter] = ''.join(item)\n",
    "\n",
    "        # Check if word exists, if word is not the starting word, and if the word has not been previously\n",
    "        # stored in the final list\n",
    "        for counter, item in enumerate(temp_word_dict.values()):\n",
    "            if us_dict.check(item):\n",
    "                if item == temp_word:\n",
    "                    pass\n",
    "                else:\n",
    "                    if item in real_words_per_word:\n",
    "                        pass\n",
    "                    else:\n",
    "                        temp_words_found.append(item)\n",
    "                        temp_real_words += 1\n",
    "            else:\n",
    "                temp_fake_words += 1\n",
    "        \n",
    "        # Removing duplicates and re-assign real number of real words if needed\n",
    "        temp_words_found = list(dict.fromkeys(temp_words_found))\n",
    "        temp_real_words = len(temp_words_found)\n",
    "        \n",
    "        # Storing per-word results\n",
    "        real_words_per_word.append(temp_real_words)\n",
    "        words_found.append(temp_words_found)\n",
    "        \n",
    "    if verbose == True:\n",
    "        print('Done.')\n",
    "    \n",
    "    return real_words_per_word, words_found"
   ]
  },
  {
   "cell_type": "code",
   "execution_count": 3,
   "metadata": {},
   "outputs": [],
   "source": [
    "single_word = ['penguin', 'freedom', 'something', 'wrong', 'happy', 'snowden', 'slap']"
   ]
  },
  {
   "cell_type": "code",
   "execution_count": 4,
   "metadata": {},
   "outputs": [],
   "source": [
    "real_words_per_word, words_found = real_words_from_combinations(list_of_words=single_word)"
   ]
  },
  {
   "cell_type": "code",
   "execution_count": 5,
   "metadata": {},
   "outputs": [
    {
     "data": {
      "text/plain": [
       "[0, 0, 0, 1, 0, 0, 3]"
      ]
     },
     "execution_count": 5,
     "metadata": {},
     "output_type": "execute_result"
    }
   ],
   "source": [
    "real_words_per_word"
   ]
  },
  {
   "cell_type": "code",
   "execution_count": 7,
   "metadata": {},
   "outputs": [
    {
     "data": {
      "text/plain": [
       "[[], [], [], ['grown'], [], [], ['laps', 'alps', 'pals']]"
      ]
     },
     "execution_count": 7,
     "metadata": {},
     "output_type": "execute_result"
    }
   ],
   "source": [
    "words_found"
   ]
  },
  {
   "cell_type": "code",
   "execution_count": null,
   "metadata": {},
   "outputs": [],
   "source": []
  }
 ],
 "metadata": {
  "kernelspec": {
   "display_name": "Main",
   "language": "python",
   "name": "main"
  },
  "language_info": {
   "codemirror_mode": {
    "name": "ipython",
    "version": 3
   },
   "file_extension": ".py",
   "mimetype": "text/x-python",
   "name": "python",
   "nbconvert_exporter": "python",
   "pygments_lexer": "ipython3",
   "version": "3.7.7"
  }
 },
 "nbformat": 4,
 "nbformat_minor": 4
}
