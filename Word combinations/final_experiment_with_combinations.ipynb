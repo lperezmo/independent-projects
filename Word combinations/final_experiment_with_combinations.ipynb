{
 "cells": [
  {
   "cell_type": "code",
   "execution_count": 17,
   "metadata": {},
   "outputs": [],
   "source": [
    "import itertools\n",
    "import numpy as np\n",
    "import enchant\n",
    "import numpy as np\n",
    "import string\n",
    "import random\n",
    "from string import ascii_lowercase\n",
    "from random import choice"
   ]
  },
  {
   "cell_type": "markdown",
   "metadata": {},
   "source": [
    "### Defining two functions, one to generate a set of real words of a certain length, and one to find all the real words in a given set of words"
   ]
  },
  {
   "cell_type": "code",
   "execution_count": 18,
   "metadata": {},
   "outputs": [],
   "source": [
    "def choose_words_from_dict(num_of_words, len_of_words):\n",
    "    list_of_words = []\n",
    "    filename = \"D:/Python_independent_projects/word_combinations_using_itertools/english-words/words.txt\"\n",
    "    candidates = [x.strip().lower() for x in open(filename,\"r\")]\n",
    "\n",
    "    while len(list_of_words) <= num_of_words:\n",
    "        temp_word = candidates[(random.randint(0, len(candidates) - 1))]\n",
    "        if len(temp_word) == len_of_words:\n",
    "            if \"-\" in temp_word:\n",
    "                pass\n",
    "            else:\n",
    "                list_of_words.append(temp_word)\n",
    "        else:\n",
    "            pass\n",
    "        \n",
    "    return list_of_words"
   ]
  },
  {
   "cell_type": "code",
   "execution_count": 12,
   "metadata": {},
   "outputs": [],
   "source": [
    "def real_words_from_combinations(list_of_words, verbose = False):\n",
    "    \"\"\"\n",
    "    A function that takes a list of words, and then finds the number of real words that\n",
    "    can be formed from all the possible combinations of the characters of each word in the set.\n",
    "    \n",
    "    Parameters\n",
    "    ----------\n",
    "    list_of_words : a list of words\n",
    "    verbose : Set to true to display progress messages\n",
    "    \n",
    "    Returns\n",
    "    -------\n",
    "    real_words_per_word : a tuple containing the number of words observed from each word in the set\n",
    "    words_found : a list of lists that contains the real words found for each word in the set\n",
    "    \n",
    "    \"\"\"\n",
    "    if verbose == True:\n",
    "        print(\"Checking the generated combination of words against an existing dictionary...\")\n",
    "    \n",
    "    # Defining the variables to hold final results\n",
    "    real_words_per_word = []\n",
    "    words_found = []\n",
    "    \n",
    "    # Creating a US dictionary to check words against\n",
    "    us_dict = enchant.Dict(\"en_US\") \n",
    "    \n",
    "\n",
    "    \n",
    "    # Checking each word in the given list\n",
    "    for temp_word in list_of_words:\n",
    "        \n",
    "        # Variables to hold per-word results \n",
    "        temp_real_words = 0\n",
    "        temp_fake_words = 0\n",
    "        temp_words_found = []\n",
    "        \n",
    "        # Creating all combinations that can be created with current word in given list of words\n",
    "        temp_combination = list(itertools.permutations(temp_word,len(temp_word)))\n",
    "        temp_word_dict = {}\n",
    "        for counter, item in enumerate(temp_combination):\n",
    "            temp_word_dict[counter] = ''.join(item)\n",
    "\n",
    "        # Check if word exists, if word is not the starting word, and if the word has not been previously\n",
    "        # stored in the final list\n",
    "        for counter, item in enumerate(temp_word_dict.values()):\n",
    "            if us_dict.check(item):\n",
    "                if item == temp_word:\n",
    "                    pass\n",
    "                else:\n",
    "                    if item in real_words_per_word:\n",
    "                        pass\n",
    "                    else:\n",
    "                        temp_words_found.append(item)\n",
    "                        temp_real_words += 1\n",
    "            else:\n",
    "                temp_fake_words += 1\n",
    "        \n",
    "        # Removing duplicates and re-assign real number of real words if needed\n",
    "        temp_words_found = list(dict.fromkeys(temp_words_found))\n",
    "        temp_real_words = len(temp_words_found)\n",
    "        \n",
    "        # Storing per-word results\n",
    "        real_words_per_word.append(temp_real_words)\n",
    "        words_found.append(temp_words_found)\n",
    "        \n",
    "    if verbose == True:\n",
    "        print('Done.')\n",
    "    \n",
    "    return real_words_per_word, words_found"
   ]
  },
  {
   "cell_type": "markdown",
   "metadata": {},
   "source": [
    "### Generating 20 random real words & 20 randomly generated sets of characters"
   ]
  },
  {
   "cell_type": "code",
   "execution_count": 13,
   "metadata": {},
   "outputs": [],
   "source": [
    "chars = ascii_lowercase\n",
    "sets_of_random_characters = [\"\".join([choice(chars) for i in range(8)]) for j in range(21)]"
   ]
  },
  {
   "cell_type": "code",
   "execution_count": 19,
   "metadata": {},
   "outputs": [],
   "source": [
    "randomly_chosen_words = choose_words_from_dict(num_of_words=20, len_of_words=7)"
   ]
  },
  {
   "cell_type": "markdown",
   "metadata": {},
   "source": [
    "### Comparing how many words are real in real-words vs randomly generated sets of characters"
   ]
  },
  {
   "cell_type": "code",
   "execution_count": 20,
   "metadata": {},
   "outputs": [
    {
     "name": "stdout",
     "output_type": "stream",
     "text": [
      "--------------------------------------------------------------------------------------------------------------------------------------------------------------------------------------------------------\n",
      "Results for set of real words:\n",
      "Test set:                                                  ['mcclain', 'spinnel', 'bothers', 'inliers', 'cuminic', 'cutaiar', 'seiners', 'makatea', 'odzooks', 'obediah', 'uraemia', 'mytilus', 'moniker', 'midbody', 'ritchey', 'dumpled', 'galette', 'klaxons', 'fontlet', 'ukiyoye', 'seltzer']\n",
      "The number of real words per word in the test set is:      [0, 0, 0, 0, 0, 0, 1, 0, 0, 0, 0, 1, 0, 0, 0, 0, 0, 0, 0, 0, 0]\n",
      "The real words found are:                                  [[], [], [], [], [], [], ['serines'], [], [], [], [], ['mustily'], [], [], [], [], [], [], [], [], []]\n",
      "--------------------------------------------------------------------------------------------------------------------------------------------------------------------------------------------------------\n"
     ]
    }
   ],
   "source": [
    "frequency, words_found = real_words_from_combinations(randomly_chosen_words)\n",
    "\n",
    "print(\"-\"*200)\n",
    "print('Results for set of real words:')\n",
    "print(f\"Test set:                                                  {randomly_chosen_words}\")\n",
    "print(f\"The number of real words per word in the test set is:      {frequency}\")\n",
    "print(f\"The real words found are:                                  {words_found}\")\n",
    "print(\"-\"*200)"
   ]
  },
  {
   "cell_type": "code",
   "execution_count": 21,
   "metadata": {},
   "outputs": [
    {
     "name": "stdout",
     "output_type": "stream",
     "text": [
      "--------------------------------------------------------------------------------------------------------------------------------------------------------------------------------------------------------\n",
      "Results for set of real words:\n",
      "Test set:                                                  ['xsrmtyps', 'jpskqgxv', 'vzziyexc', 'fcicdhcf', 'arhqwmry', 'omfsrxqj', 'ebhprvsz', 'plmjmzsh', 'oozkqoxt', 'bslzisvd', 'omjuymmb', 'hgzrkurq', 'culglnuy', 'nfabipwd', 'ffvvqlma', 'gyomtpzz', 'fzmtfrzd', 'acmgqmsz', 'hdohywps', 'rlrxiyxn', 'cyppnzie']\n",
      "The number of real words per word in the test set is:      [0, 0, 0, 0, 0, 0, 0, 0, 0, 0, 0, 0, 0, 0, 0, 0, 0, 0, 0, 0, 0]\n",
      "The real words found are:                                  [[], [], [], [], [], [], [], [], [], [], [], [], [], [], [], [], [], [], [], [], []]\n",
      "--------------------------------------------------------------------------------------------------------------------------------------------------------------------------------------------------------\n"
     ]
    }
   ],
   "source": [
    "frequency, words_found = real_words_from_combinations(sets_of_random_characters)\n",
    "\n",
    "print(\"-\"*200)\n",
    "print('Results for set of real words:')\n",
    "print(f\"Test set:                                                  {sets_of_random_characters}\")\n",
    "print(f\"The number of real words per word in the test set is:      {frequency}\")\n",
    "print(f\"The real words found are:                                  {words_found}\")\n",
    "print(\"-\"*200)"
   ]
  },
  {
   "cell_type": "code",
   "execution_count": null,
   "metadata": {},
   "outputs": [],
   "source": []
  }
 ],
 "metadata": {
  "kernelspec": {
   "display_name": "Main",
   "language": "python",
   "name": "main"
  },
  "language_info": {
   "codemirror_mode": {
    "name": "ipython",
    "version": 3
   },
   "file_extension": ".py",
   "mimetype": "text/x-python",
   "name": "python",
   "nbconvert_exporter": "python",
   "pygments_lexer": "ipython3",
   "version": "3.7.7"
  }
 },
 "nbformat": 4,
 "nbformat_minor": 4
}
