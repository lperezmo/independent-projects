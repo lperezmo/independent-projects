{
 "cells": [
  {
   "cell_type": "code",
   "execution_count": 356,
   "metadata": {},
   "outputs": [],
   "source": [
    "import itertools\n",
    "import numpy as np\n",
    "import enchant\n",
    "import numpy as np\n",
    "import string\n",
    "from string import ascii_lowercase\n",
    "from random import choice"
   ]
  },
  {
   "cell_type": "markdown",
   "metadata": {},
   "source": [
    "### First example, creating all permutations of obtained from a word made up of seven letters.\n",
    "1. Create all possible combinations from the letters of the given word.\n",
    "2. Create a list of all possible \"words\" that can be made up with those given words.\n",
    "3. Compare the list of words to an existing US dictionary.\n",
    "4. Obtain results, which are the number of words that are real & the list of words that were found to be real."
   ]
  },
  {
   "cell_type": "code",
   "execution_count": 39,
   "metadata": {},
   "outputs": [],
   "source": [
    "word = 'PARADOX'\n",
    "combinations = list(itertools.permutations(word,len(word)))"
   ]
  },
  {
   "cell_type": "code",
   "execution_count": 40,
   "metadata": {},
   "outputs": [],
   "source": [
    "# words_array = {range(len(combinations)), combinations}\n",
    "word_dict = {}\n",
    "for counter, item in enumerate(combinations):\n",
    "    word_dict[counter] = ''.join(item)"
   ]
  },
  {
   "cell_type": "code",
   "execution_count": 41,
   "metadata": {},
   "outputs": [
    {
     "data": {
      "text/plain": [
       "5040"
      ]
     },
     "execution_count": 41,
     "metadata": {},
     "output_type": "execute_result"
    }
   ],
   "source": [
    "len(word_dict)"
   ]
  },
  {
   "cell_type": "markdown",
   "metadata": {},
   "source": [
    "Example of using `enchant` library"
   ]
  },
  {
   "cell_type": "code",
   "execution_count": 14,
   "metadata": {},
   "outputs": [],
   "source": [
    "# real_words = SpellChecker.known(word_dict, SpellChecker.known)\n",
    "d = enchant.Dict(\"en_US\")   # create dictionary for US English"
   ]
  },
  {
   "cell_type": "code",
   "execution_count": 15,
   "metadata": {},
   "outputs": [
    {
     "data": {
      "text/plain": [
       "True"
      ]
     },
     "execution_count": 15,
     "metadata": {},
     "output_type": "execute_result"
    }
   ],
   "source": [
    "d.check(\"enchant\")"
   ]
  },
  {
   "cell_type": "code",
   "execution_count": 16,
   "metadata": {},
   "outputs": [
    {
     "data": {
      "text/plain": [
       "False"
      ]
     },
     "execution_count": 16,
     "metadata": {},
     "output_type": "execute_result"
    }
   ],
   "source": [
    "d.check(\"enchnt\")"
   ]
  },
  {
   "cell_type": "code",
   "execution_count": 17,
   "metadata": {},
   "outputs": [
    {
     "data": {
      "text/plain": [
       "['enchant', 'entrench', 'tench']"
      ]
     },
     "execution_count": 17,
     "metadata": {},
     "output_type": "execute_result"
    }
   ],
   "source": [
    "d.suggest(\"enchnt\")"
   ]
  },
  {
   "cell_type": "markdown",
   "metadata": {},
   "source": [
    "The loop to check how many of these words are real."
   ]
  },
  {
   "cell_type": "code",
   "execution_count": 69,
   "metadata": {},
   "outputs": [
    {
     "name": "stdout",
     "output_type": "stream",
     "text": [
      "Checking the generated combination of words against an existing dictionary...\n",
      "There are 0 real words and 5040 words that are not real.\n",
      "The real words found are: []\n"
     ]
    }
   ],
   "source": [
    "real_words = 0\n",
    "fake_words = 0\n",
    "words_found = []\n",
    "\n",
    "print(\"Checking the generated combination of words against an existing dictionary...\")\n",
    "for counter, item in enumerate(word_dict.values()):\n",
    "    if d.check(item):\n",
    "        words_found.append(item)\n",
    "        real_words += 1\n",
    "    elif d.check(item) is False:\n",
    "        fake_words += 1\n",
    "\n",
    "print(f\"There are {real_words} real words and {fake_words} words that are not real.\")\n",
    "print(f\"The real words found are: {words_found}\")"
   ]
  },
  {
   "cell_type": "markdown",
   "metadata": {},
   "source": [
    "### Second example. Doing the same analysis on a randomly generated list of seven, non-repeated letters."
   ]
  },
  {
   "cell_type": "code",
   "execution_count": 57,
   "metadata": {},
   "outputs": [],
   "source": [
    "np.random.seed(2222)\n",
    "randomly_chosen_letters = list(np.random.choice(list(string.ascii_lowercase), 7))"
   ]
  },
  {
   "cell_type": "code",
   "execution_count": 58,
   "metadata": {},
   "outputs": [
    {
     "data": {
      "text/plain": [
       "['b', 'r', 'j', 'g', 'y', 'i', 'a']"
      ]
     },
     "execution_count": 58,
     "metadata": {},
     "output_type": "execute_result"
    }
   ],
   "source": [
    "randomly_chosen_letters"
   ]
  },
  {
   "cell_type": "code",
   "execution_count": 59,
   "metadata": {},
   "outputs": [],
   "source": [
    "combinations = tuple(itertools.permutations(randomly_chosen_letters,len(randomly_chosen_letters)))"
   ]
  },
  {
   "cell_type": "code",
   "execution_count": 60,
   "metadata": {},
   "outputs": [],
   "source": [
    "# words_array = {range(len(combinations)), combinations}\n",
    "word_dict = {}\n",
    "for counter, item in enumerate(combinations):\n",
    "    word_dict[counter] = ''.join(item)"
   ]
  },
  {
   "cell_type": "code",
   "execution_count": 61,
   "metadata": {},
   "outputs": [
    {
     "data": {
      "text/plain": [
       "5040"
      ]
     },
     "execution_count": 61,
     "metadata": {},
     "output_type": "execute_result"
    }
   ],
   "source": [
    "len(word_dict)"
   ]
  },
  {
   "cell_type": "code",
   "execution_count": 62,
   "metadata": {},
   "outputs": [
    {
     "name": "stdout",
     "output_type": "stream",
     "text": [
      "Checking the generated combination of words against an existing dictionary...\n",
      "There are 0 real words and 5040 words that are not real.\n",
      "The real words found are: []\n"
     ]
    }
   ],
   "source": [
    "real_words = 0\n",
    "fake_words = 0\n",
    "words_found = []\n",
    "\n",
    "print(\"Checking the generated combination of words against an existing dictionary...\")\n",
    "for counter, item in enumerate(word_dict.values()):\n",
    "    if d.check(item):\n",
    "        words_found.append(item)\n",
    "        real_words += 1\n",
    "    elif d.check(item) is False:\n",
    "        fake_words += 1\n",
    "\n",
    "print(f\"There are {real_words} real words and {fake_words} words that are not real.\")\n",
    "print(f\"The real words found are: {words_found}\")"
   ]
  },
  {
   "cell_type": "markdown",
   "metadata": {},
   "source": [
    "### Third example. Checking 10 randomly chosen words & comparing results to 10 randomly generated sets of characters"
   ]
  },
  {
   "cell_type": "code",
   "execution_count": 65,
   "metadata": {},
   "outputs": [
    {
     "data": {
      "text/plain": [
       "['ransom',\n",
       " 'randoms',\n",
       " 'fandom',\n",
       " 'ran dom',\n",
       " 'ran-dom',\n",
       " 'rand om',\n",
       " 'rand-om',\n",
       " 'random']"
      ]
     },
     "execution_count": 65,
     "metadata": {},
     "output_type": "execute_result"
    }
   ],
   "source": [
    "d.suggest(\"random\")"
   ]
  },
  {
   "cell_type": "code",
   "execution_count": 183,
   "metadata": {},
   "outputs": [
    {
     "data": {
      "text/plain": [
       "['cjbqofiz',\n",
       " 'hvqhdkla',\n",
       " 'qmjoofuf',\n",
       " 'cozoaqcm',\n",
       " 'pjkpomua',\n",
       " 'fmtoykgt',\n",
       " 'rgjxgbom',\n",
       " 'unudsoah',\n",
       " 'pgwhulbq',\n",
       " 'dyzwljll']"
      ]
     },
     "execution_count": 183,
     "metadata": {},
     "output_type": "execute_result"
    }
   ],
   "source": [
    "# Generating our 10 words made up of randomly generated sets of characters, seven characters long\n",
    "chars = string.ascii_lowercase\n",
    "sets_of_random_characters = [\"\".join([choice(chars) for i in range(8)]) for j in range(10)]\n",
    "sets_of_random_characters"
   ]
  },
  {
   "cell_type": "code",
   "execution_count": 174,
   "metadata": {},
   "outputs": [],
   "source": [
    "# 10-randomly generated real words, as determined by `enchant` library\n",
    "generated_real_words = []\n",
    "\n",
    "def generate_real_words(length_of_words, number_of_words):\n",
    "    \"\"\"\n",
    "    Generate a list of real words by generating random string and checking against\n",
    "    a pyenchant US dictionary.\n",
    "    \n",
    "    Parameters\n",
    "    ----------\n",
    "    length_of_words : integer specifying how long the words must be\n",
    "    number_of_words : integer specifiying how many words are to be generated\n",
    "    \n",
    "    The code was accelerated by using the `suggest` function within pyechant,\n",
    "    which allows us to not have to generate a word exactly-as-is, but only use\n",
    "    and approximation and then take the length-appropiate choice suggested\n",
    "    by pyenchant.\n",
    "    \n",
    "    \"\"\"\n",
    "\n",
    "    # A list to hold all the generated words\n",
    "    generated = []\n",
    "    \n",
    "    # Dictionary and the list of all ascii lowercase characters\n",
    "    us_dict = enchant.Dict(\"en_US\")\n",
    "    chars = string.ascii_lowercase\n",
    "    \n",
    "    while len(generated) <= number_of_words:\n",
    "        \n",
    "        # Generate a temp word, check against US dictionary,\n",
    "        # and add it to the list if the word is real\n",
    "        temp_word = \"\".join([choice(chars) for i in range(length_of_words)])          \n",
    "        if us_dict.check(temp_word):\n",
    "            generated.append(temp_word)\n",
    "        else:\n",
    "            \n",
    "            # Try to find suggestions from pyenchant\n",
    "            try:\n",
    "                temp_list = us_dict.suggest(t)\n",
    "                \n",
    "                # Check if suggested words are correct length, and add to\n",
    "                # the final list if they are\n",
    "                for i in temp_list:\n",
    "                    if len(i) == length_of_words:\n",
    "                        generated.append(i)\n",
    "                    else:\n",
    "                        pass                \n",
    "            except:\n",
    "                pass \n",
    "\n",
    "\n",
    "            pass\n",
    "    \n",
    "    return generated    \n",
    "\n",
    "# def test_generate_real_words():\n",
    "#     assert isinstance(length_of_words, int)\n",
    "#     assert isinstance(number_of_words, int)\n",
    "    "
   ]
  },
  {
   "cell_type": "markdown",
   "metadata": {},
   "source": [
    "Time of execution for optimized function"
   ]
  },
  {
   "cell_type": "code",
   "execution_count": 181,
   "metadata": {},
   "outputs": [
    {
     "name": "stdout",
     "output_type": "stream",
     "text": [
      "Wall time: 49.4 s\n"
     ]
    },
    {
     "data": {
      "text/plain": [
       "['aptest', 'raptly', 'napery', 'edgers', 'knolls', 'bocage', 'evener']"
      ]
     },
     "execution_count": 181,
     "metadata": {},
     "output_type": "execute_result"
    }
   ],
   "source": [
    "%%time\n",
    "stuff = generate_real_words(length_of_words=6, number_of_words=6)\n",
    "stuff"
   ]
  },
  {
   "cell_type": "markdown",
   "metadata": {},
   "source": [
    "Time of execution of non-optimized function"
   ]
  },
  {
   "cell_type": "code",
   "execution_count": 179,
   "metadata": {},
   "outputs": [],
   "source": [
    "def non_optimized(length_of_words, number_of_words):\n",
    "    \"\"\"\n",
    "    Generate a list of real words by generating random string and checking against\n",
    "    a pyenchant US dictionary.\n",
    "\n",
    "    Parameters\n",
    "    ----------\n",
    "    length_of_words : integer specifying how long the words must be\n",
    "    number_of_words : integer specifiying how many words are to be generated\n",
    "    \n",
    "    The code was accelerated by using the `suggest` function within pyechant,\n",
    "    which allows us to not have to generate a word exactly-as-is, but only use\n",
    "    and approximation and then take the length-appropiate choice suggested\n",
    "    by pyenchant.\n",
    "    \n",
    "    \"\"\"\n",
    "\n",
    "    # A list to hold all the generated words\n",
    "    generated = []\n",
    "    \n",
    "    # Dictionary and the list of all ascii lowercase characters\n",
    "    us_dict = enchant.Dict(\"en_US\")\n",
    "    chars = string.ascii_lowercase\n",
    "    \n",
    "    while len(generated) <= number_of_words:\n",
    "        # Generate a temp word, check against US dictionary,\n",
    "        # and add it to the list if the word is real\n",
    "        temp_word = \"\".join([choice(chars) for i in range(length_of_words)])          \n",
    "        if us_dict.check(temp_word):\n",
    "            generated.append(temp_word)\n",
    "        else:\n",
    "            pass\n",
    "    \n",
    "    return generated    "
   ]
  },
  {
   "cell_type": "code",
   "execution_count": 180,
   "metadata": {},
   "outputs": [
    {
     "name": "stdout",
     "output_type": "stream",
     "text": [
      "Wall time: 1min 4s\n"
     ]
    },
    {
     "data": {
      "text/plain": [
       "['enrobe', 'subtly', 'ozonic', 'sleepy', 'oppose', 'gender', 'purree']"
      ]
     },
     "execution_count": 180,
     "metadata": {},
     "output_type": "execute_result"
    }
   ],
   "source": [
    "%%time \n",
    "stuff = non_optimized(length_of_words=6, number_of_words=6)\n",
    "stuff"
   ]
  },
  {
   "cell_type": "markdown",
   "metadata": {},
   "source": [
    "### Results of optimization of word combinations function:\n",
    "Optimized function is not always faster than non-optimized function, so it depends a lot on whether the `suggest` function in `pyenchant` is able to successfully create suggestions that are the right length."
   ]
  },
  {
   "cell_type": "markdown",
   "metadata": {},
   "source": [
    "## Comparing how many words are real in real-words vs randomly generated sets of characters"
   ]
  },
  {
   "cell_type": "code",
   "execution_count": 187,
   "metadata": {},
   "outputs": [
    {
     "name": "stdout",
     "output_type": "stream",
     "text": [
      "The real generated words are ['aptest', 'raptly', 'napery', 'edgers', 'knolls', 'bocage', 'evener'], and the randomly generated sets of characters are ['cjbqofiz', 'hvqhdkla', 'qmjoofuf', 'cozoaqcm', 'pjkpomua', 'fmtoykgt', 'rgjxgbom', 'unudsoah', 'pgwhulbq', 'dyzwljll']\n"
     ]
    }
   ],
   "source": [
    "randomly_chosen_words = stuff\n",
    "sets_of_random_characters\n",
    "print(f\"The real generated words are {randomly_chosen_words}, and the randomly generated sets of characters are {sets_of_random_characters}\")"
   ]
  },
  {
   "cell_type": "code",
   "execution_count": 289,
   "metadata": {},
   "outputs": [],
   "source": [
    "def real_words_from_combinations(list_of_words, verbose = False):\n",
    "    \"\"\"\n",
    "    A function that takes a list of words, and then finds the number of real words that\n",
    "    can be formed from all the possible combinations of the characters of each word in the set.\n",
    "    \n",
    "    Parameters\n",
    "    ----------\n",
    "    list_of_words : a list of words\n",
    "    verbose : Set to true to display progress messages\n",
    "    \n",
    "    Returns\n",
    "    -------\n",
    "    real_words_per_word : a tuple containing the number of words observed from each word in the set\n",
    "    words_found : a list of lists that contains the real words found for each word in the set\n",
    "    \n",
    "    \"\"\"\n",
    "    if verbose == True:\n",
    "        print(\"Checking the generated combination of words against an existing dictionary...\")\n",
    "    \n",
    "    # Defining the variables to hold final results\n",
    "    real_words_per_word = []\n",
    "    words_found = []\n",
    "    \n",
    "    # Creating a US dictionary to check words against\n",
    "    us_dict = enchant.Dict(\"en_US\") \n",
    "    \n",
    "\n",
    "    \n",
    "    # Checking each word in the given list\n",
    "    for temp_word in list_of_words:\n",
    "        \n",
    "        # Variables to hold per-word results \n",
    "        temp_real_words = 0\n",
    "        temp_fake_words = 0\n",
    "        temp_words_found = []\n",
    "        \n",
    "        # Creating all combinations that can be created with current word in given list of words\n",
    "        temp_combination = list(itertools.permutations(temp_word,len(temp_word)))\n",
    "        temp_word_dict = {}\n",
    "        for counter, item in enumerate(temp_combination):\n",
    "            temp_word_dict[counter] = ''.join(item)\n",
    "\n",
    "        # Check if word exists, if word is not the starting word, and if the word has not been previously\n",
    "        # stored in the final list\n",
    "        for counter, item in enumerate(temp_word_dict.values()):\n",
    "            if us_dict.check(item):\n",
    "                if item == temp_word:\n",
    "                    pass\n",
    "                else:\n",
    "                    if item in real_words_per_word:\n",
    "                        pass\n",
    "                    else:\n",
    "                        temp_words_found.append(item)\n",
    "                        temp_real_words += 1\n",
    "            else:\n",
    "                temp_fake_words += 1\n",
    "        \n",
    "        # Removing duplicates and re-assign real number of real words if needed\n",
    "        temp_words_found = list(dict.fromkeys(temp_words_found))\n",
    "        temp_real_words = len(temp_words_found)\n",
    "        \n",
    "        # Storing per-word results\n",
    "        real_words_per_word.append(temp_real_words)\n",
    "        words_found.append(temp_words_found)\n",
    "        \n",
    "    if verbose == True:\n",
    "        print('Done.')\n",
    "    \n",
    "    return real_words_per_word, words_found\n",
    "        \n",
    "#         print(f\"There are {real_words} real words and {fake_words} words that are not real.\")\n",
    "#         print(f\"The real words found are: {words_found}\")\n"
   ]
  },
  {
   "cell_type": "code",
   "execution_count": 290,
   "metadata": {},
   "outputs": [
    {
     "name": "stdout",
     "output_type": "stream",
     "text": [
      "Checking the generated combination of words against an existing dictionary...\n",
      "Done.\n",
      "([0, 1], [[], ['act']])\n"
     ]
    }
   ],
   "source": [
    "test_list =['altruist', 'cat']\n",
    "print(real_words_from_combinations(test_list, verbose = True))"
   ]
  },
  {
   "cell_type": "code",
   "execution_count": 276,
   "metadata": {},
   "outputs": [
    {
     "name": "stdout",
     "output_type": "stream",
     "text": [
      "([0, 2], [[], ['sprue', 'purse']])\n"
     ]
    }
   ],
   "source": [
    "test_list_two = ['paradox', 'super']\n",
    "print(real_words_from_combinations(test_list_two))"
   ]
  },
  {
   "cell_type": "markdown",
   "metadata": {},
   "source": [
    "## Final experiment with combinations\n",
    "\n",
    "Testing how many real words there are in the 10 sets of randomly generated characters vs the set 10 real words."
   ]
  },
  {
   "cell_type": "code",
   "execution_count": 354,
   "metadata": {},
   "outputs": [
    {
     "name": "stdout",
     "output_type": "stream",
     "text": [
      "--------------------------------------------------------------------------------------------------------------------------------------------------------------------------------------------------------\n",
      "Results for set of real words:\n",
      "Test set:                                                  ['aptest', 'raptly', 'napery', 'edgers', 'knolls', 'bocage', 'evener']\n",
      "The number of real words per word in the test set is:      [0, 2, 0, 0, 0, 0, 1]\n",
      "The real words found are:                                  [[], ['partly', 'paltry'], [], [], [], [], ['veneer']]\n",
      "--------------------------------------------------------------------------------------------------------------------------------------------------------------------------------------------------------\n"
     ]
    }
   ],
   "source": [
    "frequency, words_found = real_words_from_combinations(randomly_chosen_words)\n",
    "\n",
    "print(\"-\"*200)\n",
    "print('Results for set of real words:')\n",
    "print(f\"Test set:                                                  {randomly_chosen_words}\")\n",
    "print(f\"The number of real words per word in the test set is:      {frequency}\")\n",
    "print(f\"The real words found are:                                  {words_found}\")\n",
    "print(\"-\"*200)"
   ]
  },
  {
   "cell_type": "code",
   "execution_count": 355,
   "metadata": {},
   "outputs": [
    {
     "name": "stdout",
     "output_type": "stream",
     "text": [
      "--------------------------------------------------------------------------------------------------------------------------------------------------------------------------------------------------------\n",
      "Results for set of real words:\n",
      "Test set:                                                  ['cjbqofiz', 'hvqhdkla', 'qmjoofuf', 'cozoaqcm', 'pjkpomua', 'fmtoykgt', 'rgjxgbom', 'unudsoah', 'pgwhulbq', 'dyzwljll']\n",
      "The number of real words per word in the test set is:      [0, 0, 0, 0, 0, 0, 0, 0, 0, 0]\n",
      "The real words found are:                                  [[], [], [], [], [], [], [], [], [], []]\n",
      "--------------------------------------------------------------------------------------------------------------------------------------------------------------------------------------------------------\n"
     ]
    }
   ],
   "source": [
    "frequency, words_found = real_words_from_combinations(sets_of_random_characters)\n",
    "\n",
    "print(\"-\"*200)\n",
    "print('Results for set of real words:')\n",
    "print(f\"Test set:                                                  {sets_of_random_characters}\")\n",
    "print(f\"The number of real words per word in the test set is:      {frequency}\")\n",
    "print(f\"The real words found are:                                  {words_found}\")\n",
    "print(\"-\"*200)"
   ]
  },
  {
   "cell_type": "code",
   "execution_count": null,
   "metadata": {},
   "outputs": [],
   "source": []
  }
 ],
 "metadata": {
  "kernelspec": {
   "display_name": "Main",
   "language": "python",
   "name": "main"
  },
  "language_info": {
   "codemirror_mode": {
    "name": "ipython",
    "version": 3
   },
   "file_extension": ".py",
   "mimetype": "text/x-python",
   "name": "python",
   "nbconvert_exporter": "python",
   "pygments_lexer": "ipython3",
   "version": "3.7.7"
  }
 },
 "nbformat": 4,
 "nbformat_minor": 4
}
